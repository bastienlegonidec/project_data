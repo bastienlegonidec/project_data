{
 "cells": [
  {
   "cell_type": "code",
   "execution_count": 3,
   "metadata": {},
   "outputs": [
    {
     "name": "stdout",
     "output_type": "stream",
     "text": [
      "Le fichier CSV a été enregistré sous le nom 'rf_best_predicted_results.csv'.\n",
      "Best Test Accuracy: 0.7\n",
      "Best Parameters:\n",
      "n_estimators: 200\n",
      "max_depth: 10\n",
      "\n",
      "Best Classification Report:\n",
      "              precision    recall  f1-score   support\n",
      "\n",
      "         Bee       0.88      0.70      0.78        30\n",
      "   Butterfly       0.50      0.50      0.50         2\n",
      "   Hover fly       0.00      0.00      0.00         2\n",
      "        Wasp       0.00      0.00      0.00         1\n",
      "   Bumblebee       0.54      0.87      0.67        15\n",
      "\n",
      "    accuracy                           0.70        50\n",
      "   macro avg       0.38      0.41      0.39        50\n",
      "weighted avg       0.71      0.70      0.69        50\n",
      "\n"
     ]
    },
    {
     "name": "stderr",
     "output_type": "stream",
     "text": [
      "c:\\Users\\leona\\AppData\\Local\\Programs\\Python\\Python39\\lib\\site-packages\\sklearn\\metrics\\_classification.py:1517: UndefinedMetricWarning: Precision is ill-defined and being set to 0.0 in labels with no predicted samples. Use `zero_division` parameter to control this behavior.\n",
      "  _warn_prf(average, modifier, f\"{metric.capitalize()} is\", len(result))\n",
      "c:\\Users\\leona\\AppData\\Local\\Programs\\Python\\Python39\\lib\\site-packages\\sklearn\\metrics\\_classification.py:1517: UndefinedMetricWarning: Precision is ill-defined and being set to 0.0 in labels with no predicted samples. Use `zero_division` parameter to control this behavior.\n",
      "  _warn_prf(average, modifier, f\"{metric.capitalize()} is\", len(result))\n",
      "c:\\Users\\leona\\AppData\\Local\\Programs\\Python\\Python39\\lib\\site-packages\\sklearn\\metrics\\_classification.py:1517: UndefinedMetricWarning: Precision is ill-defined and being set to 0.0 in labels with no predicted samples. Use `zero_division` parameter to control this behavior.\n",
      "  _warn_prf(average, modifier, f\"{metric.capitalize()} is\", len(result))\n"
     ]
    }
   ],
   "source": [
    "# Imports\n",
    "import pandas as pd\n",
    "import numpy as np\n",
    "from sklearn.model_selection import train_test_split\n",
    "from sklearn.preprocessing import StandardScaler\n",
    "from sklearn.impute import SimpleImputer\n",
    "from sklearn.ensemble import RandomForestClassifier\n",
    "from sklearn.metrics import accuracy_score, classification_report\n",
    "\n",
    "# Chargement des données\n",
    "df = pd.read_csv('dataVisualization/result.csv')\n",
    "\n",
    "# Suppression des valeurs 'Bee & Bumblebee'\n",
    "df = df[df['bug type'] != 'Bee & Bumblebee']\n",
    "\n",
    "# Sélection des caractéristiques et de la cible\n",
    "X = df.drop(columns=['bug type', 'species'])\n",
    "y = df['bug type']\n",
    "\n",
    "# Encodage des étiquettes de la cible\n",
    "y_encoded, y_labels = pd.factorize(y)\n",
    "\n",
    "# Imputation des valeurs manquantes\n",
    "imputer = SimpleImputer(strategy='mean')\n",
    "X = imputer.fit_transform(X)\n",
    "\n",
    "# Séparation des données en ensembles d'entraînement et de test\n",
    "X_train, X_test, y_train, y_test = train_test_split(X, y_encoded, test_size=0.2, random_state=42)\n",
    "\n",
    "# Normalisation des données\n",
    "scaler = StandardScaler()\n",
    "X_train = scaler.fit_transform(X_train)\n",
    "X_test = scaler.transform(X_test)\n",
    "\n",
    "# Définir les meilleurs paramètres trouvés\n",
    "best_params = {\n",
    "    'n_estimators': 200,\n",
    "    'max_depth': 10\n",
    "}\n",
    "\n",
    "# Création du modèle Random Forest avec les meilleurs paramètres\n",
    "rf = RandomForestClassifier(random_state=42, **best_params)\n",
    "\n",
    "# Entraînement du modèle\n",
    "rf.fit(X_train, y_train)\n",
    "\n",
    "# Prédiction sur les données de test\n",
    "y_pred = rf.predict(X_test)\n",
    "\n",
    "# Évaluation du modèle\n",
    "accuracy = accuracy_score(y_test, y_pred)\n",
    "classification_rep = classification_report(y_test, y_pred, target_names=y_labels[np.unique(y_test)])\n",
    "\n",
    "# Création du DataFrame avec les meilleurs résultats\n",
    "results_df = pd.DataFrame({\n",
    "    'bug type': y_labels[y_test],\n",
    "    'Predicted_Bug_Type': y_labels[y_pred],\n",
    "    'Recognition': y_labels[y_test] == y_labels[y_pred]\n",
    "})\n",
    "\n",
    "# Convertir les booléens en chaînes \"True\" ou \"False\"\n",
    "results_df['Recognition'] = results_df['Recognition'].map({True: 'True', False: 'False'})\n",
    "\n",
    "# Enregistrement du DataFrame dans un fichier CSV\n",
    "results_df.to_csv('rf_best_predicted_results.csv', index=False)\n",
    "\n",
    "# Affichage d'un message de confirmation\n",
    "print(\"Le fichier CSV a été enregistré sous le nom 'rf_best_predicted_results.csv'.\")\n",
    "\n",
    "# Affichage des meilleurs résultats\n",
    "print(f'Best Test Accuracy: {accuracy}')\n",
    "print('Best Parameters:')\n",
    "print(f'n_estimators: {best_params[\"n_estimators\"]}')\n",
    "print(f'max_depth: {best_params[\"max_depth\"]}')\n",
    "print('\\nBest Classification Report:')\n",
    "print(classification_rep)\n"
   ]
  }
 ],
 "metadata": {
  "kernelspec": {
   "display_name": "Python 3",
   "language": "python",
   "name": "python3"
  },
  "language_info": {
   "codemirror_mode": {
    "name": "ipython",
    "version": 3
   },
   "file_extension": ".py",
   "mimetype": "text/x-python",
   "name": "python",
   "nbconvert_exporter": "python",
   "pygments_lexer": "ipython3",
   "version": "3.9.0"
  },
  "orig_nbformat": 4,
  "vscode": {
   "interpreter": {
    "hash": "83db9ccd60aaba7f36d82c7c8a804da99e0bc213c9e856efe6e157fa32ac376b"
   }
  }
 },
 "nbformat": 4,
 "nbformat_minor": 2
}
