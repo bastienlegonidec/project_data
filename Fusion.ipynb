{
 "cells": [
  {
   "cell_type": "code",
   "execution_count": 30,
   "metadata": {},
   "outputs": [
    {
     "name": "stderr",
     "output_type": "stream",
     "text": [
      "c:\\Users\\leona\\AppData\\Local\\Programs\\Python\\Python39\\lib\\site-packages\\sklearn\\neural_network\\_multilayer_perceptron.py:690: ConvergenceWarning: Stochastic Optimizer: Maximum iterations (2000) reached and the optimization hasn't converged yet.\n",
      "  warnings.warn(\n"
     ]
    },
    {
     "name": "stdout",
     "output_type": "stream",
     "text": [
      "Classification Report:\n",
      "              precision    recall  f1-score   support\n",
      "\n",
      "         Bee       0.91      0.70      0.79        30\n",
      "   Butterfly       0.00      0.00      0.00         5\n",
      "        Wasp       1.00      0.50      0.67         2\n",
      "   Bumblebee       0.48      0.92      0.63        13\n",
      "\n",
      "   micro avg       0.69      0.68      0.69        50\n",
      "   macro avg       0.60      0.53      0.52        50\n",
      "weighted avg       0.71      0.68      0.67        50\n",
      "\n"
     ]
    },
    {
     "name": "stderr",
     "output_type": "stream",
     "text": [
      "c:\\Users\\leona\\AppData\\Local\\Programs\\Python\\Python39\\lib\\site-packages\\sklearn\\metrics\\_classification.py:1517: UndefinedMetricWarning: Precision is ill-defined and being set to 0.0 in labels with no predicted samples. Use `zero_division` parameter to control this behavior.\n",
      "  _warn_prf(average, modifier, f\"{metric.capitalize()} is\", len(result))\n",
      "c:\\Users\\leona\\AppData\\Local\\Programs\\Python\\Python39\\lib\\site-packages\\sklearn\\metrics\\_classification.py:1517: UndefinedMetricWarning: Precision is ill-defined and being set to 0.0 in labels with no predicted samples. Use `zero_division` parameter to control this behavior.\n",
      "  _warn_prf(average, modifier, f\"{metric.capitalize()} is\", len(result))\n",
      "c:\\Users\\leona\\AppData\\Local\\Programs\\Python\\Python39\\lib\\site-packages\\sklearn\\metrics\\_classification.py:1517: UndefinedMetricWarning: Precision is ill-defined and being set to 0.0 in labels with no predicted samples. Use `zero_division` parameter to control this behavior.\n",
      "  _warn_prf(average, modifier, f\"{metric.capitalize()} is\", len(result))\n"
     ]
    }
   ],
   "source": [
    "import pandas as pd\n",
    "import numpy as np\n",
    "from sklearn import metrics\n",
    "from sklearn.model_selection import train_test_split\n",
    "from sklearn.preprocessing import StandardScaler\n",
    "from sklearn.svm import SVC\n",
    "from sklearn.neural_network import MLPClassifier\n",
    "\n",
    "# Charger les données\n",
    "df = pd.read_csv(\"dataVisualization/result.csv\")\n",
    "\n",
    "# Supprimer les valeurs manquantes\n",
    "df.dropna(inplace=True)\n",
    "\n",
    "# Supprimer les valeurs 'Bee & Bumblebee'\n",
    "df = df[df['bug type'] != 'Bee & Bumblebee']\n",
    "\n",
    "# Sélectionner les colonnes de caractéristiques et la cible\n",
    "train_predictor_columns = df.columns.difference(['bug type', 'species'])\n",
    "target_labels = df['bug type']\n",
    "train_feats = df[train_predictor_columns]\n",
    "\n",
    "# Encodage des étiquettes de la cible\n",
    "y_encoded, y_labels = pd.factorize(target_labels)\n",
    "\n",
    "# Division des données en ensembles d'entraînement et de test\n",
    "X_train, X_test, y_train, y_test = train_test_split(train_feats, y_encoded, test_size=0.2, random_state=42)\n",
    "\n",
    "# Normalisation des données\n",
    "scaler = StandardScaler()\n",
    "X_train_scaled = scaler.fit_transform(X_train)\n",
    "X_test_scaled = scaler.transform(X_test)\n",
    "\n",
    "# Définir les paramètres pour MLP et SVM\n",
    "mlp = MLPClassifier(hidden_layer_sizes=(32, 16, 8), alpha=0.001, max_iter=2000, solver='adam', random_state=0, tol=1e-9)\n",
    "svm = SVC(C=100, kernel='linear', degree=3, gamma='scale', coef0=0, probability=True)\n",
    "\n",
    "# Entraîner les modèles individuellement\n",
    "mlp.fit(X_train_scaled, y_train)\n",
    "svm.fit(X_train_scaled, y_train)\n",
    "\n",
    "# Obtenir les prédictions de chaque modèle\n",
    "y_prob_mlp = mlp.predict_proba(X_test_scaled)\n",
    "y_prob_svm = svm.predict_proba(X_test_scaled)\n",
    "\n",
    "# Obtenir les classes\n",
    "classes = mlp.classes_\n",
    "\n",
    "# Fusionner les résultats des deux modèles en utilisant des règles conditionnelles strictes\n",
    "final_pred = []\n",
    "bee_index = np.where(classes == y_labels.tolist().index('Bee'))[0][0]\n",
    "bumblebee_index = np.where(classes == y_labels.tolist().index('Bumblebee'))[0][0]\n",
    "\n",
    "for i in range(len(y_test)):\n",
    "    if y_prob_svm[i][bumblebee_index] > 0.8:  # Seuil strict pour Bumblebee\n",
    "        final_pred.append(bumblebee_index)\n",
    "    elif y_prob_mlp[i][bee_index] > 0.7:  # Seuil strict pour Bee\n",
    "        final_pred.append(bee_index)\n",
    "    else:\n",
    "        # Si aucune condition n'est satisfaite, utiliser la classe avec la plus haute probabilité globale\n",
    "        final_pred.append(np.argmax(y_prob_mlp[i]) if y_prob_mlp[i].max() > y_prob_svm[i].max() else np.argmax(y_prob_svm[i]))\n",
    "\n",
    "# Correction de l'erreur en spécifiant explicitement les étiquettes des classes\n",
    "unique_labels = np.unique(y_test)\n",
    "classification_report = metrics.classification_report(y_test, final_pred, labels=unique_labels, target_names=y_labels[unique_labels])\n",
    "print(\"Classification Report:\")\n",
    "print(classification_report)\n",
    "\n",
    "# Export des résultats fusionnés\n",
    "test_df = df.loc[X_test.index]\n",
    "test_df.drop(train_predictor_columns, axis=1, inplace=True)\n",
    "test_df.drop(['species'], axis=1, inplace=True)\n",
    "test_df['Fusion_Prediction'] = y_labels[final_pred]\n",
    "test_df['Fusion_Recognition'] = test_df['bug type'] == test_df['Fusion_Prediction']\n",
    "test_df.to_csv(\"fusion_results.csv\", index=False)\n"
   ]
  }
 ],
 "metadata": {
  "kernelspec": {
   "display_name": "Python 3",
   "language": "python",
   "name": "python3"
  },
  "language_info": {
   "codemirror_mode": {
    "name": "ipython",
    "version": 3
   },
   "file_extension": ".py",
   "mimetype": "text/x-python",
   "name": "python",
   "nbconvert_exporter": "python",
   "pygments_lexer": "ipython3",
   "version": "3.9.0 (tags/v3.9.0:9cf6752, Oct  5 2020, 15:34:40) [MSC v.1927 64 bit (AMD64)]"
  },
  "orig_nbformat": 4,
  "vscode": {
   "interpreter": {
    "hash": "83db9ccd60aaba7f36d82c7c8a804da99e0bc213c9e856efe6e157fa32ac376b"
   }
  }
 },
 "nbformat": 4,
 "nbformat_minor": 2
}
