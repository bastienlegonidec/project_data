{
 "cells": [
  {
   "cell_type": "code",
   "execution_count": 118,
   "metadata": {},
   "outputs": [],
   "source": [
    "import pandas as pd\n",
    "from sklearn import metrics\n",
    "from sklearn.model_selection import train_test_split\n",
    "from sklearn.neighbors import KNeighborsClassifier\n",
    "from sklearn.impute import SimpleImputer\n",
    "from sklearn.preprocessing import StandardScaler\n",
    "from sklearn.cluster import KMeans, AgglomerativeClustering\n"
   ]
  },
  {
   "cell_type": "code",
   "execution_count": 119,
   "metadata": {},
   "outputs": [
    {
     "name": "stdout",
     "output_type": "stream",
     "text": [
      "Classification Report:\n",
      "              precision    recall  f1-score   support\n",
      "\n",
      "         Bee       0.50      0.57      0.53        21\n",
      "   Bumblebee       0.62      0.60      0.61        25\n",
      "       Other       0.50      0.25      0.33         4\n",
      "\n",
      "    accuracy                           0.56        50\n",
      "   macro avg       0.54      0.47      0.49        50\n",
      "weighted avg       0.56      0.56      0.56        50\n",
      "\n"
     ]
    }
   ],
   "source": [
    "\n",
    "# Charger les données\n",
    "df = pd.read_csv(\"/home/codespace/project_data/dataVisualization/result.csv\")\n",
    "\n",
    "# Regrouper les catégories avec peu de données dans une catégorie 'Other'\n",
    "df['bug type'] = df['bug type'].replace(['Butterfly', 'Hover fly', 'Wasp'], 'Other')\n",
    "\n",
    "# Sélectionner les colonnes de caractéristiques et la cible\n",
    "train_predictor_columns = [\"Median_R\", \"Median_G\", \"Median_B\", \"Std_R\", \"Std_G\", \"Std_B\", \"Area\"]\n",
    "target_labels = df[\"bug type\"]\n",
    "train_feats = df[train_predictor_columns]\n",
    "\n",
    "# Supprimer les valeurs manquantes\n",
    "df = df.dropna()\n",
    "\n",
    "# Imputation des valeurs manquantes\n",
    "imputer = SimpleImputer(strategy='mean')\n",
    "train_feats = imputer.fit_transform(train_feats)\n",
    "\n",
    "# Normalisation des données\n",
    "scaler = StandardScaler()\n",
    "train_feats_scaled = scaler.fit_transform(train_feats)\n",
    "\n",
    "# Appliquer KMeans\n",
    "kmeans = KMeans(n_clusters=3, random_state=0)  # Vous pouvez ajuster n_clusters selon vos résultats précédents\n",
    "kmeans_labels = kmeans.fit_predict(train_feats_scaled)\n",
    "\n",
    "# Appliquer Agglomerative Clustering\n",
    "agg_clustering = AgglomerativeClustering(n_clusters=3)  # Vous pouvez ajuster n_clusters selon vos résultats précédents\n",
    "agg_labels = agg_clustering.fit_predict(train_feats_scaled)\n",
    "\n",
    "# Ajouter les étiquettes de clusters comme caractéristiques supplémentaires\n",
    "train_feats_with_clusters = pd.DataFrame(train_feats, columns=train_predictor_columns)\n",
    "train_feats_with_clusters['KMeans_Cluster'] = kmeans_labels\n",
    "train_feats_with_clusters['Agg_Cluster'] = agg_labels\n",
    "\n",
    "# Division des données en ensembles d'entraînement et de test\n",
    "x_train, x_test, y_train, y_test = train_test_split(train_feats_with_clusters, target_labels, test_size=0.2, random_state=0)\n",
    "\n",
    "# Appliquer KNN\n",
    "knn = KNeighborsClassifier(n_neighbors=3)\n",
    "knn.fit(x_train, y_train)\n",
    "y_pred = knn.predict(x_test)\n",
    "\n",
    "# Évaluation de la performance\n",
    "classification_report = metrics.classification_report(y_test, y_pred)\n",
    "print(\"Classification Report:\")\n",
    "print(classification_report)\n",
    "\n"
   ]
  },
  {
   "cell_type": "code",
   "execution_count": 120,
   "metadata": {},
   "outputs": [],
   "source": [
    "# Isoler les lignes de result.csv qui ont été utilisées pour tester le modèle\n",
    "test_df = df.loc[x_test.index]\n",
    "test_df.drop(train_predictor_columns, axis=1, inplace=True)\n",
    "test_df.drop(['sym_index', 'species'], axis=1, inplace=True)\n",
    "\n",
    "test_df['Predicted_Bug_Type'] = y_pred\n",
    "\n",
    "test_df['Recognition'] = test_df['bug type'] == test_df['Predicted_Bug_Type']\n",
    "test_df.to_csv(\"/home/codespace/project_data/MachineLearning/new_results.csv\", index=False)"
   ]
  }
 ],
 "metadata": {
  "kernelspec": {
   "display_name": "Python 3",
   "language": "python",
   "name": "python3"
  },
  "language_info": {
   "codemirror_mode": {
    "name": "ipython",
    "version": 3
   },
   "file_extension": ".py",
   "mimetype": "text/x-python",
   "name": "python",
   "nbconvert_exporter": "python",
   "pygments_lexer": "ipython3",
   "version": "3.10.13"
  }
 },
 "nbformat": 4,
 "nbformat_minor": 2
}
